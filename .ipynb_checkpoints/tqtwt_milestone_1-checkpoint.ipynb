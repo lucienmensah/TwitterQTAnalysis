{
 "cells": [
  {
   "cell_type": "markdown",
   "id": "389bc248",
   "metadata": {},
   "source": [
    "# Trans* Twitter Data Analysis"
   ]
  },
  {
   "cell_type": "markdown",
   "id": "12202b61",
   "metadata": {},
   "source": [
    "## Webpage: https://lucienmensah.github.io/blogpages/2021_10_24_post.html"
   ]
  },
  {
   "cell_type": "markdown",
   "id": "e4aef5d0",
   "metadata": {},
   "source": [
    "### Project Goals:\n",
    "The goal of this project is to explore how Twitter users use language and neologisms to express gender freedom. I seek to examine if there is an alignment between the pronouns that people use to describe themselves and the words that they use. Because of this, with this project, I am also hoping to do some sentiment analysis of the tweets within the queries and look to see if the tweets more frequently talk about themselves or other people."
   ]
  },
  {
   "cell_type": "markdown",
   "id": "7b3b0093",
   "metadata": {},
   "source": [
    "### Data:\n",
    "I will be pulling data from Twitter every other day, from a query of the words: \"thembo\", \"bimbo\", \"himbo\", \"theydies\", \"ladies\", \"gentlethem\", \"gentlemen\", \"theybie\", \"transgender\", \"transwoman\", and \"transman\". Each of these terms will be pulled in, and will be in their own csv file. An example of one of the datasets is available below:"
   ]
  },
  {
   "cell_type": "code",
   "execution_count": 5,
   "id": "b8e4d976",
   "metadata": {},
   "outputs": [
    {
     "data": {
      "text/html": [
       "<div>\n",
       "<style scoped>\n",
       "    .dataframe tbody tr th:only-of-type {\n",
       "        vertical-align: middle;\n",
       "    }\n",
       "\n",
       "    .dataframe tbody tr th {\n",
       "        vertical-align: top;\n",
       "    }\n",
       "\n",
       "    .dataframe thead th {\n",
       "        text-align: right;\n",
       "    }\n",
       "</style>\n",
       "<table border=\"1\" class=\"dataframe\">\n",
       "  <thead>\n",
       "    <tr style=\"text-align: right;\">\n",
       "      <th></th>\n",
       "      <th>screen_name</th>\n",
       "      <th>name</th>\n",
       "      <th>location</th>\n",
       "      <th>bio</th>\n",
       "      <th>tweet</th>\n",
       "      <th>he/him</th>\n",
       "      <th>she/her</th>\n",
       "      <th>they/them</th>\n",
       "      <th>it/its</th>\n",
       "      <th>xe/xem</th>\n",
       "      <th>ze/zir</th>\n",
       "    </tr>\n",
       "  </thead>\n",
       "  <tbody>\n",
       "    <tr>\n",
       "      <th>0</th>\n",
       "      <td>Dr_Thembo</td>\n",
       "      <td>Dr Thembo 🏴</td>\n",
       "      <td>NaN</td>\n",
       "      <td>They/Thembo</td>\n",
       "      <td>@gaywonk I like \"CRT, God Dammit\" more, bit \"T...</td>\n",
       "      <td>no</td>\n",
       "      <td>no</td>\n",
       "      <td>yes</td>\n",
       "      <td>no</td>\n",
       "      <td>no</td>\n",
       "      <td>no</td>\n",
       "    </tr>\n",
       "    <tr>\n",
       "      <th>1</th>\n",
       "      <td>Thembo_OW</td>\n",
       "      <td>Thembo OW :)</td>\n",
       "      <td>NaN</td>\n",
       "      <td>Hi im hunter I play OwOverwatch:) \\nThey/them</td>\n",
       "      <td>RT @Twobold_: A child shows me a 'meme' consis...</td>\n",
       "      <td>no</td>\n",
       "      <td>no</td>\n",
       "      <td>yes</td>\n",
       "      <td>no</td>\n",
       "      <td>no</td>\n",
       "      <td>no</td>\n",
       "    </tr>\n",
       "    <tr>\n",
       "      <th>2</th>\n",
       "      <td>Thembo_OW</td>\n",
       "      <td>Thembo OW :)</td>\n",
       "      <td>NaN</td>\n",
       "      <td>Hi im hunter I play OwOverwatch:) \\nThey/them</td>\n",
       "      <td>RT @chrissyxchi: does changing the Overwatch c...</td>\n",
       "      <td>no</td>\n",
       "      <td>no</td>\n",
       "      <td>yes</td>\n",
       "      <td>no</td>\n",
       "      <td>no</td>\n",
       "      <td>no</td>\n",
       "    </tr>\n",
       "    <tr>\n",
       "      <th>3</th>\n",
       "      <td>ArtinandWritin</td>\n",
       "      <td>✨⍣ʟᴀ ᴊᴇss⍣✨💉</td>\n",
       "      <td>NaN</td>\n",
       "      <td>She/Her | 19 | I am no longer baby I want powe...</td>\n",
       "      <td>RT @ThistleSpade: thembo i mean- tk redesign &amp;...</td>\n",
       "      <td>no</td>\n",
       "      <td>yes</td>\n",
       "      <td>no</td>\n",
       "      <td>no</td>\n",
       "      <td>no</td>\n",
       "      <td>no</td>\n",
       "    </tr>\n",
       "    <tr>\n",
       "      <th>4</th>\n",
       "      <td>RedRiotsDarling</td>\n",
       "      <td>SorchaChaos🌸 Feeling Petty in Pink</td>\n",
       "      <td>NaN</td>\n",
       "      <td>30. She/They, Disaster Bisexual. This close to...</td>\n",
       "      <td>@KTGWrites 🎶 This thembo's on fiiiiiire 🎶 But ...</td>\n",
       "      <td>no</td>\n",
       "      <td>yes</td>\n",
       "      <td>yes</td>\n",
       "      <td>no</td>\n",
       "      <td>no</td>\n",
       "      <td>no</td>\n",
       "    </tr>\n",
       "  </tbody>\n",
       "</table>\n",
       "</div>"
      ],
      "text/plain": [
       "       screen_name                                name location  \\\n",
       "0        Dr_Thembo                         Dr Thembo 🏴      NaN   \n",
       "1        Thembo_OW                        Thembo OW :)      NaN   \n",
       "2        Thembo_OW                        Thembo OW :)      NaN   \n",
       "3   ArtinandWritin                        ✨⍣ʟᴀ ᴊᴇss⍣✨💉      NaN   \n",
       "4  RedRiotsDarling  SorchaChaos🌸 Feeling Petty in Pink      NaN   \n",
       "\n",
       "                                                 bio  \\\n",
       "0                                        They/Thembo   \n",
       "1      Hi im hunter I play OwOverwatch:) \\nThey/them   \n",
       "2      Hi im hunter I play OwOverwatch:) \\nThey/them   \n",
       "3  She/Her | 19 | I am no longer baby I want powe...   \n",
       "4  30. She/They, Disaster Bisexual. This close to...   \n",
       "\n",
       "                                               tweet he/him she/her they/them  \\\n",
       "0  @gaywonk I like \"CRT, God Dammit\" more, bit \"T...     no      no       yes   \n",
       "1  RT @Twobold_: A child shows me a 'meme' consis...     no      no       yes   \n",
       "2  RT @chrissyxchi: does changing the Overwatch c...     no      no       yes   \n",
       "3  RT @ThistleSpade: thembo i mean- tk redesign &...     no     yes        no   \n",
       "4  @KTGWrites 🎶 This thembo's on fiiiiiire 🎶 But ...     no     yes       yes   \n",
       "\n",
       "  it/its xe/xem ze/zir  \n",
       "0     no     no     no  \n",
       "1     no     no     no  \n",
       "2     no     no     no  \n",
       "3     no     no     no  \n",
       "4     no     no     no  "
      ]
     },
     "execution_count": 5,
     "metadata": {},
     "output_type": "execute_result"
    }
   ],
   "source": [
    "import pandas as pd\n",
    "thembo_df = pd.read_csv(\"thembo_10_24.csv\")\n",
    "thembo_df.head()"
   ]
  },
  {
   "cell_type": "markdown",
   "id": "b09624f5",
   "metadata": {},
   "source": [
    "As we can see from the preview of the data, we get a user's screen_name (user name), their name (display name), location (the reason why it is included is because some users put their pronouns in their location), bio (the most popular place to put pronouns), the tweet that had the word that was queried, which in this case was \"thembo\", and columns that specifically denote what set of pronouns were indicated either in their bio or location. I used regular expressions specifically searching for different pronoun sets in order to create the columns that indicated what pronouns they used. I figured this would be the most benefiticial while doing the data analysis. One issue with the data is that the Twitter indiscriminately will include users that may not specifically Tweeted a certain word, but also has it in their bio or their screen name, as we see for the first person. I, however, have not removed them from my analysis because those users show example of using one of the gendered neologisms as a self-identification, which is the main point of my research. Additionally, the main reason I am using pronouns is because they are another hallmark of self identification, though, while dealing with the different words in the queries, we will be interacting with the societal implications that each word has. For example, \"bimbo\" being aligned with women, \"himbo\" with men, and \"thembo\" being created to align with non-binary people. There is a fine line with this research as someone may be non-binary but not use they/them pronouns or vise-versa. That is why I will be trying to stray away from making such specific alignments, but we do live in an overarching cis-centric society. \n",
    "\n",
    "With those thoughts in mind, there are groups of people being left out, such as people who use neopronouns and I am doing my best, as I encounter new sets, to include them in my work. It is not perfect, but for now, that is what I can do."
   ]
  },
  {
   "cell_type": "markdown",
   "id": "05602a76",
   "metadata": {},
   "source": [
    "### Code\n",
    "\n",
    "The code that I used to pull the data is available here: https://github.com/lucienmensah/TwitterQTAnalysis/blob/main/data_pulling_notebook.ipynb"
   ]
  },
  {
   "cell_type": "markdown",
   "id": "c27de5c9",
   "metadata": {},
   "source": [
    "## Extra note: \n",
    "\n",
    "due to the formatting of my github website, I already have an existing page and I will be uploading these as \"blog posts\" on my personal page. If I download this notebook as an .html to upload, the existing CSS I have doesn't work with the page. I have a system that works on my end, and as long as it works for you too, I'm happy to keep it that way. Unsure if I will lose points for this, though. Happy to meet and talk about it if there are any questions :)"
   ]
  },
  {
   "cell_type": "code",
   "execution_count": null,
   "id": "6760a89d",
   "metadata": {},
   "outputs": [],
   "source": []
  }
 ],
 "metadata": {
  "kernelspec": {
   "display_name": "Python 3 (ipykernel)",
   "language": "python",
   "name": "python3"
  },
  "language_info": {
   "codemirror_mode": {
    "name": "ipython",
    "version": 3
   },
   "file_extension": ".py",
   "mimetype": "text/x-python",
   "name": "python",
   "nbconvert_exporter": "python",
   "pygments_lexer": "ipython3",
   "version": "3.9.7"
  }
 },
 "nbformat": 4,
 "nbformat_minor": 5
}
