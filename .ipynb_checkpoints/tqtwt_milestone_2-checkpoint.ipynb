{
 "cells": [
  {
   "cell_type": "markdown",
   "id": "389bc248",
   "metadata": {},
   "source": [
    "# Trans* Twitter Data Analysis\n",
    "Project by Lucien Mensah"
   ]
  },
  {
   "cell_type": "markdown",
   "id": "12202b61",
   "metadata": {},
   "source": [
    "## Webpage: https://lucienmensah.github.io/blogpages/2021_11_18_post.html"
   ]
  },
  {
   "cell_type": "markdown",
   "id": "e4aef5d0",
   "metadata": {},
   "source": [
    "### Project Goals:\n",
    "The goal of this project is to explore how Twitter users use language and neologisms to express gender freedom. Some of the questions that I would like to hopefully answer are: \n",
    "\n",
    "#### Is there an alignment between the pronouns that people use to describe themselves and the words that they use?\n",
    "#### Do those that use pronoun sets outside of \"he/him\" and \"she/her\" tend to create more words to fit their identities?\n",
    "#### What is the general sentiment of these neologisms with specific reference to those who may be outside the gender binary?\n",
    "#### How often do people use neologisms to talk about themselves vs others?\n",
    "\n",
    "### Some smaller questions that I also would like to look at:\n",
    "\n",
    "##### How many Twitter users do actually put their pronouns in their bios/location?\n",
    "##### Is it more common to put pronouns in their bio or their location?"
   ]
  },
  {
   "cell_type": "markdown",
   "id": "05602a76",
   "metadata": {},
   "source": [
    "### Data Pulling Code:\n",
    "\n",
    "I pull this data using Tweepy, a Python library designed specifically for interacting with Twitter. It also requires that I have Twitter Dev Access, which is something that I acquired a while ago. I start off by importing the necessary libraries - in addition to Tweepy, I need re for my regex, pandas to read the CSVs and matplotlib for visualizations."
   ]
  },
  {
   "cell_type": "code",
   "execution_count": 16,
   "id": "c5deaabb",
   "metadata": {},
   "outputs": [],
   "source": [
    "import tweepy\n",
    "import pandas as pd\n",
    "import re\n",
    "import matplotlib.pyplot as plt\n",
    "import numpy as np"
   ]
  },
  {
   "cell_type": "markdown",
   "id": "4e7477fd",
   "metadata": {},
   "source": [
    "After that, it is necessary to be authenticated through Twitter, and I have hidden my keys."
   ]
  },
  {
   "cell_type": "code",
   "execution_count": 3,
   "id": "f36dc08e",
   "metadata": {},
   "outputs": [],
   "source": [
    "consumer_key = \"####\"\n",
    "consumer_secret = \"####\"\n",
    "access_token = \"####\"\n",
    "access_token_secret = \"####\"\n",
    "\n",
    "# creating the authentication object\n",
    "auth = tweepy.OAuthHandler(consumer_key, consumer_secret)\n",
    "# setting your access token and secret\n",
    "auth.set_access_token(access_token, access_token_secret)\n",
    "# creating the API object while passing in auth information\n",
    "api = tweepy.API(auth)"
   ]
  },
  {
   "cell_type": "markdown",
   "id": "707561b3",
   "metadata": {},
   "source": [
    "I set up the list of features that I will be looking for to create my dataframe, I have a list of the queries I will be searching for, and I have a dictionary that will make the process easier for looping through."
   ]
  },
  {
   "cell_type": "code",
   "execution_count": 4,
   "id": "6f7cee7b",
   "metadata": {},
   "outputs": [],
   "source": [
    "user_features_list = [\"screen_name\", \"name\", \"location\", \"bio\", \"tweet\",\n",
    "                      \"he/him\", \"she/her\", \"they/them\",\n",
    "                      \"it/its\", \"xe/xem\", \"ze/zir\"]\n",
    "\n",
    "query_list = [\"thembo\",\"bimbo\",\"himbo\",\"theydies\",\"ladies\", \"gentlethem\", \"gentlemen\", \"theybie\", \"transgender\",\"trans woman\",\"trans man\"]\n",
    "res_dict = {}"
   ]
  },
  {
   "cell_type": "markdown",
   "id": "44dc1b0f",
   "metadata": {},
   "source": [
    "I am focusing on neologisms in English, so I set my language to English. The max number of tweets I can pull per query is 100 terms, so I set that, and then I begin a loop to search for tweets that are in my query, match the language, and match the number of tweets. I should note that with the labels \"transwoman\" and \"transman\", it is specifically spaced out in my code, but it still captures instances of \"transwoman\" and \"transman\", which is specifically marked as okay as a self-identifier but there has been discourse about which version is politically correct. My viewpoint is that one should separate the two, as \"trans\" is an adjective modifying \"man\" in the same way that \"cis\" is oftentime (silently) modifying man or woman. Putting the adjective and noun together may often be seen as a form of othering to differenciate a trans person from a cis person purposefully to deny their womanhood or manhood."
   ]
  },
  {
   "cell_type": "code",
   "execution_count": null,
   "id": "eb961a9a",
   "metadata": {},
   "outputs": [],
   "source": [
    "# english language tweets\n",
    "language = \"en\"\n",
    "# can set number of tweets to pull - up to 100\n",
    "numTweets = 100\n",
    "# calling the user_timeline function with our parameters\n",
    "for query in query_list:\n",
    "    res_dict[query] = api.search_tweets(q=query, lang=language, count=numTweets)"
   ]
  },
  {
   "cell_type": "markdown",
   "id": "7a5d8877",
   "metadata": {},
   "source": [
    "My code to search through tweets uses regex to search through a user's bio and location to see what set of pronouns they use. Right now, I am only looking for he/him, they/them, she/her, it/its, xe/xir/xem, ze/zir/zem in regards to pronouns since those are the sets that I have come across the most. As I encounter new sets of pronouns, I do my best to add them to this list. This code could also possibly use some refinement as it may make more sense to make each of the pronouns into a list and then do regex from there. All the pronouns are appended to their respective lists, and then I also have a specific list for users that do not have pronouns in their bio. From there, I am able to reference the previously created list to compile the dataframe since users that have at least one instance of a pronoun will be captured, and if a specific user uses multiple sets of pronouns, the dataframe will mark each of these. This allows for a variety of pronouns and possibly identities to be captured."
   ]
  },
  {
   "cell_type": "code",
   "execution_count": null,
   "id": "349da8a7",
   "metadata": {},
   "outputs": [],
   "source": [
    "# cell to search through tweets\n",
    "for query in query_list:   \n",
    "    users_df = pd.DataFrame(columns = user_features_list)\n",
    "    pro_they = []\n",
    "    pro_he = []\n",
    "    pro_she = []\n",
    "    pro_it = []\n",
    "    pro_xe = []\n",
    "    pro_ze = []\n",
    "    no_pronouns = []\n",
    "    authors = []\n",
    "# no pronouns, but uses nb or genderqueer\n",
    "    nbgq = []\n",
    "    tweets = []\n",
    "    for tweet in res_dict[query]: #there has to be a way to make this less redundant\n",
    "        # prints the username, tweet w query, and bio description\n",
    "        tweets.append(tweet.text)\n",
    "        # print(tweet.user.screen_name,\"Tweeted:\",tweet.text,\"| User Description:\",tweet.user.description)\n",
    "        authors.append(tweet.user.screen_name)\n",
    "        # this searches for they/them\n",
    "        if re.search((r'\\bthey\\b' or r'\\bthem\\b'), tweet.user.description, re.IGNORECASE):\n",
    "            pro_they.append(tweet.user.screen_name) #searches for they/them\n",
    "        if re.search((r'\\bthey\\b' or r'\\bthem\\b'), tweet.user.location, re.IGNORECASE):\n",
    "            pro_they.append(tweet.user.screen_name) #searches for they/them\n",
    "        if re.search((r'\\bshe\\b' or r'\\bher\\b'), tweet.user.description, re.IGNORECASE):\n",
    "            pro_she.append(tweet.user.screen_name)\n",
    "        if re.search((r'\\bshe\\b' or r'\\bher\\b'), tweet.user.location, re.IGNORECASE):\n",
    "            pro_she.append(tweet.user.screen_name)\n",
    "        if re.search((r'\\bhe\\b' or r'\\bhim\\b'), tweet.user.description, re.IGNORECASE):\n",
    "            pro_he.append(tweet.user.screen_name)\n",
    "        if re.search((r'\\bhe\\b' or r'\\bhim\\b'), tweet.user.location, re.IGNORECASE):\n",
    "            pro_he.append(tweet.user.screen_name)\n",
    "        if re.search((r'\\bit\\b' or r'\\bits\\b'), tweet.user.description, re.IGNORECASE):\n",
    "            pro_it.append(tweet.user.screen_name)\n",
    "        if re.search((r'\\bit\\b' or r'\\bits\\b'), tweet.user.location, re.IGNORECASE):\n",
    "            pro_it.append(tweet.user.screen_name)\n",
    "        if re.search((r'\\bxe\\b' or r'\\bxir\\b' or r'\\bxem\\b' or r'\\bxey\\b'), tweet.user.description, re.IGNORECASE):\n",
    "            pro_xe.append(tweet.user.screen_name)\n",
    "        if re.search((r'\\bxe\\b' or r'\\bxir\\b' or r'\\bxem\\b' or r'\\bxey\\b'), tweet.user.location, re.IGNORECASE):\n",
    "            pro_xe.append(tweet.user.screen_name)\n",
    "        if re.search((r'\\bze\\b' or r'\\bzir\\b' or r'\\bzem\\b'), tweet.user.description, re.IGNORECASE):\n",
    "            pro_ze.append(tweet.user.screen_name)\n",
    "        if re.search((r'\\bze\\b' or r'\\bzir\\b' or r'\\bzem\\b'), tweet.user.location, re.IGNORECASE):\n",
    "            pro_ze.append(tweet.user.screen_name)\n",
    "            #de,dem\n",
    "   #people who use words like genderqueer, nb\n",
    "        if re.search((r'\\bnonbinary\\b' or r'\\bgenderqueer\\b'), tweet.user.description, re.IGNORECASE):\n",
    "           nbgq.append(tweet.user.screen_name)\n",
    "           \n",
    "    for tweet in res_dict[query]: #this may not be necessary    \n",
    "    # Create empty dict\n",
    "        user_features = {}\n",
    "    # Get user data\n",
    "        user_features['bio'] = tweet.user.description\n",
    "        user_features['screen_name'] = tweet.user.screen_name\n",
    "        user_features['name'] = tweet.user.name\n",
    "        user_features['tweet'] = tweet.text\n",
    "        user_features['location'] = tweet.user.location\n",
    "        #fills in the yeses\n",
    "        if tweet.user.screen_name in pro_they:\n",
    "            user_features['they/them'] = 'yes'\n",
    "        if tweet.user.screen_name in pro_he:\n",
    "            user_features['he/him'] = 'yes'\n",
    "        if tweet.user.screen_name in pro_she:\n",
    "            user_features['she/her'] = 'yes'\n",
    "        if tweet.user.screen_name in pro_it:\n",
    "            user_features['it/its'] = 'yes'\n",
    "        if tweet.user.screen_name in pro_xe:\n",
    "            user_features['xe/xem'] = 'yes'\n",
    "        if tweet.user.screen_name in pro_ze:\n",
    "            user_features['ze/zem'] = 'yes'\n",
    "        #fills in the nos\n",
    "        if tweet.user.screen_name not in pro_he:\n",
    "            user_features['he/him'] = 'no'\n",
    "        if tweet.user.screen_name not in pro_she:\n",
    "            user_features['she/her'] = 'no'\n",
    "        if tweet.user.screen_name not in pro_xe:\n",
    "            user_features['xe/xem'] = 'no'\n",
    "        if tweet.user.screen_name not in pro_they:\n",
    "            user_features['they/them'] = 'no'\n",
    "        if tweet.user.screen_name not in pro_it:\n",
    "            user_features['it/its'] = 'no'\n",
    "        if tweet.user.screen_name not in pro_ze:\n",
    "            user_features['ze/zem'] = 'no'\n",
    "        # concat the dfs\n",
    "        user = pd.DataFrame(user_features, index = [0])\n",
    "        users_df = pd.concat([users_df, user], ignore_index = True)\n",
    "    date_string = '11_18'\n",
    "    filename = '%s_%s.csv' % (query, date_string)   \n",
    "    users_df.to_csv(filename, encoding='utf-8', index=False)"
   ]
  },
  {
   "cell_type": "markdown",
   "id": "7b3b0093",
   "metadata": {},
   "source": [
    "### Data Examination:\n",
    "I will be pulling data from Twitter every other day, from a query of the words: \"thembo\", \"bimbo\", \"himbo\", \"theydies\", \"ladies\", \"gentlethem\", \"gentlemen\", \"theybie\", \"transgender\", \"transwoman\", and \"transman\". Each of these terms will be pulled in, and will be in their own csv file. An example of one of the datasets is available below:"
   ]
  },
  {
   "cell_type": "code",
   "execution_count": 5,
   "id": "b8e4d976",
   "metadata": {},
   "outputs": [
    {
     "data": {
      "text/html": [
       "<div>\n",
       "<style scoped>\n",
       "    .dataframe tbody tr th:only-of-type {\n",
       "        vertical-align: middle;\n",
       "    }\n",
       "\n",
       "    .dataframe tbody tr th {\n",
       "        vertical-align: top;\n",
       "    }\n",
       "\n",
       "    .dataframe thead th {\n",
       "        text-align: right;\n",
       "    }\n",
       "</style>\n",
       "<table border=\"1\" class=\"dataframe\">\n",
       "  <thead>\n",
       "    <tr style=\"text-align: right;\">\n",
       "      <th></th>\n",
       "      <th>screen_name</th>\n",
       "      <th>name</th>\n",
       "      <th>location</th>\n",
       "      <th>bio</th>\n",
       "      <th>tweet</th>\n",
       "      <th>he/him</th>\n",
       "      <th>she/her</th>\n",
       "      <th>they/them</th>\n",
       "      <th>it/its</th>\n",
       "      <th>xe/xem</th>\n",
       "      <th>ze/zir</th>\n",
       "    </tr>\n",
       "  </thead>\n",
       "  <tbody>\n",
       "    <tr>\n",
       "      <th>0</th>\n",
       "      <td>Dr_Thembo</td>\n",
       "      <td>Dr Thembo 🏴</td>\n",
       "      <td>NaN</td>\n",
       "      <td>They/Thembo</td>\n",
       "      <td>@gaywonk I like \"CRT, God Dammit\" more, bit \"T...</td>\n",
       "      <td>no</td>\n",
       "      <td>no</td>\n",
       "      <td>yes</td>\n",
       "      <td>no</td>\n",
       "      <td>no</td>\n",
       "      <td>no</td>\n",
       "    </tr>\n",
       "    <tr>\n",
       "      <th>1</th>\n",
       "      <td>Thembo_OW</td>\n",
       "      <td>Thembo OW :)</td>\n",
       "      <td>NaN</td>\n",
       "      <td>Hi im hunter I play OwOverwatch:) \\nThey/them</td>\n",
       "      <td>RT @Twobold_: A child shows me a 'meme' consis...</td>\n",
       "      <td>no</td>\n",
       "      <td>no</td>\n",
       "      <td>yes</td>\n",
       "      <td>no</td>\n",
       "      <td>no</td>\n",
       "      <td>no</td>\n",
       "    </tr>\n",
       "    <tr>\n",
       "      <th>2</th>\n",
       "      <td>Thembo_OW</td>\n",
       "      <td>Thembo OW :)</td>\n",
       "      <td>NaN</td>\n",
       "      <td>Hi im hunter I play OwOverwatch:) \\nThey/them</td>\n",
       "      <td>RT @chrissyxchi: does changing the Overwatch c...</td>\n",
       "      <td>no</td>\n",
       "      <td>no</td>\n",
       "      <td>yes</td>\n",
       "      <td>no</td>\n",
       "      <td>no</td>\n",
       "      <td>no</td>\n",
       "    </tr>\n",
       "    <tr>\n",
       "      <th>3</th>\n",
       "      <td>ArtinandWritin</td>\n",
       "      <td>✨⍣ʟᴀ ᴊᴇss⍣✨💉</td>\n",
       "      <td>NaN</td>\n",
       "      <td>She/Her | 19 | I am no longer baby I want powe...</td>\n",
       "      <td>RT @ThistleSpade: thembo i mean- tk redesign &amp;...</td>\n",
       "      <td>no</td>\n",
       "      <td>yes</td>\n",
       "      <td>no</td>\n",
       "      <td>no</td>\n",
       "      <td>no</td>\n",
       "      <td>no</td>\n",
       "    </tr>\n",
       "    <tr>\n",
       "      <th>4</th>\n",
       "      <td>RedRiotsDarling</td>\n",
       "      <td>SorchaChaos🌸 Feeling Petty in Pink</td>\n",
       "      <td>NaN</td>\n",
       "      <td>30. She/They, Disaster Bisexual. This close to...</td>\n",
       "      <td>@KTGWrites 🎶 This thembo's on fiiiiiire 🎶 But ...</td>\n",
       "      <td>no</td>\n",
       "      <td>yes</td>\n",
       "      <td>yes</td>\n",
       "      <td>no</td>\n",
       "      <td>no</td>\n",
       "      <td>no</td>\n",
       "    </tr>\n",
       "  </tbody>\n",
       "</table>\n",
       "</div>"
      ],
      "text/plain": [
       "       screen_name                                name location  \\\n",
       "0        Dr_Thembo                         Dr Thembo 🏴      NaN   \n",
       "1        Thembo_OW                        Thembo OW :)      NaN   \n",
       "2        Thembo_OW                        Thembo OW :)      NaN   \n",
       "3   ArtinandWritin                        ✨⍣ʟᴀ ᴊᴇss⍣✨💉      NaN   \n",
       "4  RedRiotsDarling  SorchaChaos🌸 Feeling Petty in Pink      NaN   \n",
       "\n",
       "                                                 bio  \\\n",
       "0                                        They/Thembo   \n",
       "1      Hi im hunter I play OwOverwatch:) \\nThey/them   \n",
       "2      Hi im hunter I play OwOverwatch:) \\nThey/them   \n",
       "3  She/Her | 19 | I am no longer baby I want powe...   \n",
       "4  30. She/They, Disaster Bisexual. This close to...   \n",
       "\n",
       "                                               tweet he/him she/her they/them  \\\n",
       "0  @gaywonk I like \"CRT, God Dammit\" more, bit \"T...     no      no       yes   \n",
       "1  RT @Twobold_: A child shows me a 'meme' consis...     no      no       yes   \n",
       "2  RT @chrissyxchi: does changing the Overwatch c...     no      no       yes   \n",
       "3  RT @ThistleSpade: thembo i mean- tk redesign &...     no     yes        no   \n",
       "4  @KTGWrites 🎶 This thembo's on fiiiiiire 🎶 But ...     no     yes       yes   \n",
       "\n",
       "  it/its xe/xem ze/zir  \n",
       "0     no     no     no  \n",
       "1     no     no     no  \n",
       "2     no     no     no  \n",
       "3     no     no     no  \n",
       "4     no     no     no  "
      ]
     },
     "execution_count": 5,
     "metadata": {},
     "output_type": "execute_result"
    }
   ],
   "source": [
    "thembo_df = pd.read_csv(\"thembo_10_24.csv\")\n",
    "thembo_df.head()"
   ]
  },
  {
   "cell_type": "markdown",
   "id": "b09624f5",
   "metadata": {},
   "source": [
    "As we can see from the preview of the data, we get a user's screen_name (user name), their name (display name), location (the reason why it is included is because some users put their pronouns in their location), bio (the most popular place to put pronouns), the tweet that had the word that was queried, which in this case was \"thembo\", and columns that specifically denote what set of pronouns were indicated either in their bio or location. I used regular expressions specifically searching for different pronoun sets in order to create the columns that indicated what pronouns they used. I figured this would be the most benefiticial while doing the data analysis. One issue with the data is that the Twitter indiscriminately will include users that may not specifically Tweeted a certain word, but also has it in their bio or their screen name, as we see for the first person. I, however, have not removed them from my analysis because those users show example of using one of the gendered neologisms as a self-identification, which is the main point of my research. Additionally, the main reason I am using pronouns is because they are another hallmark of self identification, though, while dealing with the different words in the queries, we will be interacting with the societal implications that each word has. For example, \"bimbo\" being aligned with women, \"himbo\" with men, and \"thembo\" being created to align with non-binary people. There is a fine line with this research as someone may be non-binary but not use they/them pronouns or vise-versa. That is why I will be trying to stray away from making such specific alignments, but we do live in an overarching cis-centric society. "
   ]
  },
  {
   "cell_type": "markdown",
   "id": "9c74ab0c",
   "metadata": {},
   "source": [
    "### Data Analysis\n",
    "The next step is to compile the created dataframes together throughout the dates that have been collected. In order to make my findings statistically significant, I have about 1,000 tweets per query, which is all Tweeters - those who don't have pronouns in their bios and those that do. Reminder that I have 11 queries, which puts us at 11,000 data points. Wow! Since I want to look specifically at users with pronouns in their bios, that will likely remove about half of the data, but before we do that, we can answer one of my questions by looking at the number of people who have pronouns in their bios compared to those who don't. "
   ]
  },
  {
   "cell_type": "code",
   "execution_count": 32,
   "id": "777514b6",
   "metadata": {},
   "outputs": [],
   "source": [
    "trans_fn_list = [\"4_18/transgender_4_18.csv\", \"4_19/transgender_4_19.csv\", \"4_20/transgender_4_20.csv\", \"4_21/transgender_4_21.csv\", \"4_22/transgender_4_22.csv\", \"4_24/transgender_4_24.csv\", \"11_2/transgender_11_2.csv\", \"11_4/transgender_11_4.csv\", \"11_9/transgender_11_9.csv\", \"11_18/transgender_11_18.csv\"]\n",
    "trans_df_list = [pd.read_csv(fn) for fn in trans_fn_list]\n",
    "transgender_df = pd.concat(trans_df_list).reset_index(drop=True)"
   ]
  },
  {
   "cell_type": "code",
   "execution_count": 34,
   "id": "0fde21a7",
   "metadata": {},
   "outputs": [],
   "source": [
    "# creating a column that tracks if users have pronouns or not\n",
    "transgender_df['pronouns'] = ['no' if x >= 6 else 'yes' for x in np.sum(trans_df.values == 'no', 1)]"
   ]
  },
  {
   "cell_type": "code",
   "execution_count": 38,
   "id": "999e0a22",
   "metadata": {},
   "outputs": [
    {
     "data": {
      "text/html": [
       "<div>\n",
       "<style scoped>\n",
       "    .dataframe tbody tr th:only-of-type {\n",
       "        vertical-align: middle;\n",
       "    }\n",
       "\n",
       "    .dataframe tbody tr th {\n",
       "        vertical-align: top;\n",
       "    }\n",
       "\n",
       "    .dataframe thead th {\n",
       "        text-align: right;\n",
       "    }\n",
       "</style>\n",
       "<table border=\"1\" class=\"dataframe\">\n",
       "  <thead>\n",
       "    <tr style=\"text-align: right;\">\n",
       "      <th></th>\n",
       "      <th>screen_name</th>\n",
       "      <th>name</th>\n",
       "      <th>location</th>\n",
       "      <th>bio</th>\n",
       "      <th>tweet</th>\n",
       "      <th>he/him</th>\n",
       "      <th>she/her</th>\n",
       "      <th>they/them</th>\n",
       "      <th>it/its</th>\n",
       "      <th>xe/xem</th>\n",
       "      <th>ze/zir</th>\n",
       "      <th>pronouns</th>\n",
       "    </tr>\n",
       "  </thead>\n",
       "  <tbody>\n",
       "    <tr>\n",
       "      <th>0</th>\n",
       "      <td>jallyrancherr</td>\n",
       "      <td>Baby J (she/they/them)</td>\n",
       "      <td>23. NJ. Virgo. Activist. Bi.</td>\n",
       "      <td>i never know wtf I’m doing but we out here doi...</td>\n",
       "      <td>RT @StevenCanals: Heartbreaking. We have to pr...</td>\n",
       "      <td>no</td>\n",
       "      <td>yes</td>\n",
       "      <td>yes</td>\n",
       "      <td>no</td>\n",
       "      <td>no</td>\n",
       "      <td>no</td>\n",
       "      <td>yes</td>\n",
       "    </tr>\n",
       "    <tr>\n",
       "      <th>1</th>\n",
       "      <td>bellamackie</td>\n",
       "      <td>Bella Mackie</td>\n",
       "      <td>London</td>\n",
       "      <td>Writer, anxious. Podcast - Teach Me A Lesson. ...</td>\n",
       "      <td>RT @ObsNewReview: ‘Being trans is not somethin...</td>\n",
       "      <td>no</td>\n",
       "      <td>no</td>\n",
       "      <td>no</td>\n",
       "      <td>no</td>\n",
       "      <td>no</td>\n",
       "      <td>no</td>\n",
       "      <td>no</td>\n",
       "    </tr>\n",
       "    <tr>\n",
       "      <th>2</th>\n",
       "      <td>MerrylWiener</td>\n",
       "      <td>Merryl Wiener</td>\n",
       "      <td>queens</td>\n",
       "      <td>Theatre, film and music aficionado.</td>\n",
       "      <td>RT @NikSense8: ‘Being trans is not something y...</td>\n",
       "      <td>no</td>\n",
       "      <td>no</td>\n",
       "      <td>no</td>\n",
       "      <td>no</td>\n",
       "      <td>no</td>\n",
       "      <td>no</td>\n",
       "      <td>no</td>\n",
       "    </tr>\n",
       "    <tr>\n",
       "      <th>3</th>\n",
       "      <td>LexianBut</td>\n",
       "      <td>🥓 Alchemic Pragon Lexian! ⚗️✨</td>\n",
       "      <td>Denny’s</td>\n",
       "      <td>Puma-Dragon Hybrid | 20 |🦀 I love my boyfriend...</td>\n",
       "      <td>RT @EdieGuardian: To supplement the previous p...</td>\n",
       "      <td>no</td>\n",
       "      <td>no</td>\n",
       "      <td>no</td>\n",
       "      <td>no</td>\n",
       "      <td>no</td>\n",
       "      <td>no</td>\n",
       "      <td>no</td>\n",
       "    </tr>\n",
       "    <tr>\n",
       "      <th>4</th>\n",
       "      <td>tediumnnc</td>\n",
       "      <td>T.D.M.</td>\n",
       "      <td>N. Carolina</td>\n",
       "      <td>Used to be a lot of things, now just watching ...</td>\n",
       "      <td>So much here...\\r\\n\\r\\nhttps://t.co/tT18x9HCZV</td>\n",
       "      <td>no</td>\n",
       "      <td>no</td>\n",
       "      <td>no</td>\n",
       "      <td>no</td>\n",
       "      <td>no</td>\n",
       "      <td>no</td>\n",
       "      <td>no</td>\n",
       "    </tr>\n",
       "    <tr>\n",
       "      <th>5</th>\n",
       "      <td>womenalsoknow</td>\n",
       "      <td>womenalsoknowstuff</td>\n",
       "      <td>NaN</td>\n",
       "      <td>#WomenAlsoKnowStuff -- you should ask them abo...</td>\n",
       "      <td>In Sports Illustrated, @britnidlc's article fe...</td>\n",
       "      <td>no</td>\n",
       "      <td>no</td>\n",
       "      <td>no</td>\n",
       "      <td>yes</td>\n",
       "      <td>no</td>\n",
       "      <td>no</td>\n",
       "      <td>yes</td>\n",
       "    </tr>\n",
       "    <tr>\n",
       "      <th>6</th>\n",
       "      <td>DIGI_83exe</td>\n",
       "      <td>DIGI_83.exe</td>\n",
       "      <td>Liminal Space</td>\n",
       "      <td>He,Him/ANTIFA/BLM/Atheist/High Functioning Aut...</td>\n",
       "      <td>Reblog if you’d be okay if your friend came ou...</td>\n",
       "      <td>yes</td>\n",
       "      <td>no</td>\n",
       "      <td>no</td>\n",
       "      <td>no</td>\n",
       "      <td>no</td>\n",
       "      <td>no</td>\n",
       "      <td>yes</td>\n",
       "    </tr>\n",
       "    <tr>\n",
       "      <th>7</th>\n",
       "      <td>IllisiaAdams</td>\n",
       "      <td>Illisia Adams</td>\n",
       "      <td>Margate</td>\n",
       "      <td>Streamer, voice artist, Blogger, egalitarian, ...</td>\n",
       "      <td>I truly look-forward to the day when a film/TV...</td>\n",
       "      <td>no</td>\n",
       "      <td>no</td>\n",
       "      <td>no</td>\n",
       "      <td>no</td>\n",
       "      <td>no</td>\n",
       "      <td>no</td>\n",
       "      <td>no</td>\n",
       "    </tr>\n",
       "    <tr>\n",
       "      <th>8</th>\n",
       "      <td>swiftyloo</td>\n",
       "      <td>HannaKat</td>\n",
       "      <td>TX</td>\n",
       "      <td>Never put off till tomorrow that which you can...</td>\n",
       "      <td>RT @jackmurphylive: A source inside DOJ sent m...</td>\n",
       "      <td>no</td>\n",
       "      <td>no</td>\n",
       "      <td>no</td>\n",
       "      <td>no</td>\n",
       "      <td>no</td>\n",
       "      <td>no</td>\n",
       "      <td>no</td>\n",
       "    </tr>\n",
       "    <tr>\n",
       "      <th>9</th>\n",
       "      <td>bacchusrights</td>\n",
       "      <td>rory🟨🟥</td>\n",
       "      <td>mcr / nw region</td>\n",
       "      <td>ceramics MA student • infj,  bpd haver™️, cish...</td>\n",
       "      <td>RT @OwenJones84: So heartening to read somethi...</td>\n",
       "      <td>yes</td>\n",
       "      <td>no</td>\n",
       "      <td>no</td>\n",
       "      <td>no</td>\n",
       "      <td>no</td>\n",
       "      <td>no</td>\n",
       "      <td>yes</td>\n",
       "    </tr>\n",
       "    <tr>\n",
       "      <th>10</th>\n",
       "      <td>vrarda1</td>\n",
       "      <td>Dr vrarda in the wold 🟥</td>\n",
       "      <td>NaN</td>\n",
       "      <td>Deboosted for no reason 🤐</td>\n",
       "      <td>RT @DonovanCleckley: Children being seen as “t...</td>\n",
       "      <td>no</td>\n",
       "      <td>no</td>\n",
       "      <td>no</td>\n",
       "      <td>no</td>\n",
       "      <td>no</td>\n",
       "      <td>no</td>\n",
       "      <td>no</td>\n",
       "    </tr>\n",
       "    <tr>\n",
       "      <th>11</th>\n",
       "      <td>nitisac</td>\n",
       "      <td>Niticlips</td>\n",
       "      <td>NaN</td>\n",
       "      <td>Dem Convention #NeverTrump #Vote Blue #TrumpIs...</td>\n",
       "      <td>RT @Paul_VanDerMeer: Wich Republican politicia...</td>\n",
       "      <td>no</td>\n",
       "      <td>no</td>\n",
       "      <td>no</td>\n",
       "      <td>no</td>\n",
       "      <td>no</td>\n",
       "      <td>no</td>\n",
       "      <td>no</td>\n",
       "    </tr>\n",
       "    <tr>\n",
       "      <th>12</th>\n",
       "      <td>meejahoar</td>\n",
       "      <td>Lizzie_Bee🕷🏳️‍🌈🇪🇺🇬🇧🦄⚫️</td>\n",
       "      <td>London, England</td>\n",
       "      <td>#BLM #Rejoiner #proNHS #Labour #DemocraticDefi...</td>\n",
       "      <td>RT @JolyonMaugham: If you are mystified by - o...</td>\n",
       "      <td>no</td>\n",
       "      <td>no</td>\n",
       "      <td>no</td>\n",
       "      <td>no</td>\n",
       "      <td>no</td>\n",
       "      <td>no</td>\n",
       "      <td>no</td>\n",
       "    </tr>\n",
       "    <tr>\n",
       "      <th>13</th>\n",
       "      <td>eacrunden</td>\n",
       "      <td>Ev</td>\n",
       "      <td>tx/ns - dc</td>\n",
       "      <td>texpat. reporter @POLITICO's E&amp;E: chemicals + ...</td>\n",
       "      <td>“The policy debates about banning gender-affir...</td>\n",
       "      <td>no</td>\n",
       "      <td>no</td>\n",
       "      <td>yes</td>\n",
       "      <td>no</td>\n",
       "      <td>no</td>\n",
       "      <td>no</td>\n",
       "      <td>yes</td>\n",
       "    </tr>\n",
       "    <tr>\n",
       "      <th>14</th>\n",
       "      <td>Dormouse42</td>\n",
       "      <td>Zoe AKA Sailor Trash</td>\n",
       "      <td>Portland, OR</td>\n",
       "      <td>Nerd, gamer, techie, anime lover, feminist, tr...</td>\n",
       "      <td>RT @JuliaSerano: ICYMI read my latest essay ab...</td>\n",
       "      <td>no</td>\n",
       "      <td>no</td>\n",
       "      <td>no</td>\n",
       "      <td>no</td>\n",
       "      <td>no</td>\n",
       "      <td>no</td>\n",
       "      <td>no</td>\n",
       "    </tr>\n",
       "  </tbody>\n",
       "</table>\n",
       "</div>"
      ],
      "text/plain": [
       "      screen_name                           name  \\\n",
       "0   jallyrancherr         Baby J (she/they/them)   \n",
       "1     bellamackie                   Bella Mackie   \n",
       "2    MerrylWiener                  Merryl Wiener   \n",
       "3       LexianBut  🥓 Alchemic Pragon Lexian! ⚗️✨   \n",
       "4       tediumnnc                         T.D.M.   \n",
       "5   womenalsoknow             womenalsoknowstuff   \n",
       "6      DIGI_83exe                    DIGI_83.exe   \n",
       "7    IllisiaAdams                  Illisia Adams   \n",
       "8       swiftyloo                       HannaKat   \n",
       "9   bacchusrights                         rory🟨🟥   \n",
       "10        vrarda1        Dr vrarda in the wold 🟥   \n",
       "11        nitisac                      Niticlips   \n",
       "12      meejahoar         Lizzie_Bee🕷🏳️‍🌈🇪🇺🇬🇧🦄⚫️   \n",
       "13      eacrunden                             Ev   \n",
       "14     Dormouse42           Zoe AKA Sailor Trash   \n",
       "\n",
       "                        location  \\\n",
       "0   23. NJ. Virgo. Activist. Bi.   \n",
       "1                        London    \n",
       "2                         queens   \n",
       "3                        Denny’s   \n",
       "4                    N. Carolina   \n",
       "5                            NaN   \n",
       "6                  Liminal Space   \n",
       "7                        Margate   \n",
       "8                             TX   \n",
       "9               mcr / nw region    \n",
       "10                           NaN   \n",
       "11                           NaN   \n",
       "12               London, England   \n",
       "13                    tx/ns - dc   \n",
       "14                  Portland, OR   \n",
       "\n",
       "                                                  bio  \\\n",
       "0   i never know wtf I’m doing but we out here doi...   \n",
       "1   Writer, anxious. Podcast - Teach Me A Lesson. ...   \n",
       "2                 Theatre, film and music aficionado.   \n",
       "3   Puma-Dragon Hybrid | 20 |🦀 I love my boyfriend...   \n",
       "4   Used to be a lot of things, now just watching ...   \n",
       "5   #WomenAlsoKnowStuff -- you should ask them abo...   \n",
       "6   He,Him/ANTIFA/BLM/Atheist/High Functioning Aut...   \n",
       "7   Streamer, voice artist, Blogger, egalitarian, ...   \n",
       "8   Never put off till tomorrow that which you can...   \n",
       "9   ceramics MA student • infj,  bpd haver™️, cish...   \n",
       "10                          Deboosted for no reason 🤐   \n",
       "11  Dem Convention #NeverTrump #Vote Blue #TrumpIs...   \n",
       "12  #BLM #Rejoiner #proNHS #Labour #DemocraticDefi...   \n",
       "13  texpat. reporter @POLITICO's E&E: chemicals + ...   \n",
       "14  Nerd, gamer, techie, anime lover, feminist, tr...   \n",
       "\n",
       "                                                tweet he/him she/her  \\\n",
       "0   RT @StevenCanals: Heartbreaking. We have to pr...     no     yes   \n",
       "1   RT @ObsNewReview: ‘Being trans is not somethin...     no      no   \n",
       "2   RT @NikSense8: ‘Being trans is not something y...     no      no   \n",
       "3   RT @EdieGuardian: To supplement the previous p...     no      no   \n",
       "4      So much here...\\r\\n\\r\\nhttps://t.co/tT18x9HCZV     no      no   \n",
       "5   In Sports Illustrated, @britnidlc's article fe...     no      no   \n",
       "6   Reblog if you’d be okay if your friend came ou...    yes      no   \n",
       "7   I truly look-forward to the day when a film/TV...     no      no   \n",
       "8   RT @jackmurphylive: A source inside DOJ sent m...     no      no   \n",
       "9   RT @OwenJones84: So heartening to read somethi...    yes      no   \n",
       "10  RT @DonovanCleckley: Children being seen as “t...     no      no   \n",
       "11  RT @Paul_VanDerMeer: Wich Republican politicia...     no      no   \n",
       "12  RT @JolyonMaugham: If you are mystified by - o...     no      no   \n",
       "13  “The policy debates about banning gender-affir...     no      no   \n",
       "14  RT @JuliaSerano: ICYMI read my latest essay ab...     no      no   \n",
       "\n",
       "   they/them it/its xe/xem ze/zir pronouns  \n",
       "0        yes     no     no     no      yes  \n",
       "1         no     no     no     no       no  \n",
       "2         no     no     no     no       no  \n",
       "3         no     no     no     no       no  \n",
       "4         no     no     no     no       no  \n",
       "5         no    yes     no     no      yes  \n",
       "6         no     no     no     no      yes  \n",
       "7         no     no     no     no       no  \n",
       "8         no     no     no     no       no  \n",
       "9         no     no     no     no      yes  \n",
       "10        no     no     no     no       no  \n",
       "11        no     no     no     no       no  \n",
       "12        no     no     no     no       no  \n",
       "13       yes     no     no     no      yes  \n",
       "14        no     no     no     no       no  "
      ]
     },
     "execution_count": 38,
     "metadata": {},
     "output_type": "execute_result"
    }
   ],
   "source": [
    "transgender_df.head(15)"
   ]
  },
  {
   "cell_type": "code",
   "execution_count": 108,
   "id": "af99604b",
   "metadata": {},
   "outputs": [
    {
     "name": "stdout",
     "output_type": "stream",
     "text": [
      "no     0.701232\n",
      "yes    0.298768\n",
      "Name: pronouns, dtype: float64\n"
     ]
    },
    {
     "data": {
      "text/plain": [
       "<AxesSubplot:>"
      ]
     },
     "execution_count": 108,
     "metadata": {},
     "output_type": "execute_result"
    },
    {
     "data": {
      "image/png": "[encoded data removed]",
      "text/plain": [
       "<Figure size 432x288 with 1 Axes>"
      ]
     },
     "metadata": {
      "needs_background": "light"
     },
     "output_type": "display_data"
    }
   ],
   "source": [
    "print(transgender_df['pronouns'].value_counts()/transgender_df['pronouns'].value_counts().sum())\n",
    "transgender_df['pronouns'].value_counts().plot.bar()"
   ]
  },
  {
   "cell_type": "markdown",
   "id": "744132f2",
   "metadata": {},
   "source": [
    "Seeing that most people don't use pronouns in their bio for tweeting a word as general as \"transgender\" is not surprising. What would be interesting to look at is if there is the same thing with different groups. \"Transgender\" would be the control and \"trans man\" and \"trans woman\" would be my differing variable. Let's compile these dataframes, add a pronouns column, and then visualize this distribution."
   ]
  },
  {
   "cell_type": "code",
   "execution_count": 47,
   "id": "783c3218",
   "metadata": {},
   "outputs": [
    {
     "name": "stderr",
     "output_type": "stream",
     "text": [
      "C:\\Users\\lucie\\AppData\\Local\\Temp/ipykernel_92224/329965927.py:4: FutureWarning: In a future version of pandas all arguments of DataFrame.drop except for the argument 'labels' will be keyword-only\n",
      "  transman_df = transman_df.drop(['ze/zem'], 1)\n"
     ]
    },
    {
     "data": {
      "text/html": [
       "<div>\n",
       "<style scoped>\n",
       "    .dataframe tbody tr th:only-of-type {\n",
       "        vertical-align: middle;\n",
       "    }\n",
       "\n",
       "    .dataframe tbody tr th {\n",
       "        vertical-align: top;\n",
       "    }\n",
       "\n",
       "    .dataframe thead th {\n",
       "        text-align: right;\n",
       "    }\n",
       "</style>\n",
       "<table border=\"1\" class=\"dataframe\">\n",
       "  <thead>\n",
       "    <tr style=\"text-align: right;\">\n",
       "      <th></th>\n",
       "      <th>screen_name</th>\n",
       "      <th>name</th>\n",
       "      <th>location</th>\n",
       "      <th>bio</th>\n",
       "      <th>tweet</th>\n",
       "      <th>he/him</th>\n",
       "      <th>she/her</th>\n",
       "      <th>they/them</th>\n",
       "      <th>it/its</th>\n",
       "      <th>xe/xem</th>\n",
       "      <th>ze/zir</th>\n",
       "      <th>pronouns</th>\n",
       "    </tr>\n",
       "  </thead>\n",
       "  <tbody>\n",
       "    <tr>\n",
       "      <th>0</th>\n",
       "      <td>InkWolf14</td>\n",
       "      <td>Ink</td>\n",
       "      <td>She/Her</td>\n",
       "      <td>15 | I draw a lot! | guys please\\r\\n\\r\\nopen t...</td>\n",
       "      <td>RT @jalle_nii: #TransDayOfVisibility \\r\\nHiya,...</td>\n",
       "      <td>no</td>\n",
       "      <td>yes</td>\n",
       "      <td>no</td>\n",
       "      <td>no</td>\n",
       "      <td>no</td>\n",
       "      <td>no</td>\n",
       "      <td>yes</td>\n",
       "    </tr>\n",
       "    <tr>\n",
       "      <th>1</th>\n",
       "      <td>ElleBeeG</td>\n",
       "      <td>ElleBeeG</td>\n",
       "      <td>Scotland, United Kingdom</td>\n",
       "      <td>Adult Human Female - no debate.</td>\n",
       "      <td>@SinclairJM1987 @owenjones84 is a transphobic ...</td>\n",
       "      <td>no</td>\n",
       "      <td>no</td>\n",
       "      <td>no</td>\n",
       "      <td>no</td>\n",
       "      <td>no</td>\n",
       "      <td>no</td>\n",
       "      <td>no</td>\n",
       "    </tr>\n",
       "    <tr>\n",
       "      <th>2</th>\n",
       "      <td>Jonman927</td>\n",
       "      <td>Jon is |REDACTED|</td>\n",
       "      <td>Twinleaf, Sinnoh</td>\n",
       "      <td>|REDACTED|</td>\n",
       "      <td>RT @ArtsySmoker: My name is Bailey! I am a 29 ...</td>\n",
       "      <td>no</td>\n",
       "      <td>no</td>\n",
       "      <td>no</td>\n",
       "      <td>no</td>\n",
       "      <td>no</td>\n",
       "      <td>no</td>\n",
       "      <td>no</td>\n",
       "    </tr>\n",
       "    <tr>\n",
       "      <th>3</th>\n",
       "      <td>JenJunoJ</td>\n",
       "      <td>Juno</td>\n",
       "      <td>Alaska, USA</td>\n",
       "      <td>I wear men's clothing. Here's hoping men don't...</td>\n",
       "      <td>@hatpinwoman &amp;lt;-this transman likes dick, th...</td>\n",
       "      <td>no</td>\n",
       "      <td>no</td>\n",
       "      <td>no</td>\n",
       "      <td>yes</td>\n",
       "      <td>no</td>\n",
       "      <td>no</td>\n",
       "      <td>yes</td>\n",
       "    </tr>\n",
       "    <tr>\n",
       "      <th>4</th>\n",
       "      <td>efan78</td>\n",
       "      <td>Ethan Kristopher-Hartley 🏳️‍🌈🇬🇧🇪🇺</td>\n",
       "      <td>Newcastle upon Tyne, UK</td>\n",
       "      <td>42 yo Centre-Left, Liberal Progressive, Remain...</td>\n",
       "      <td>@fiery_godmother @lisasmi13049966 @DanauraW @S...</td>\n",
       "      <td>yes</td>\n",
       "      <td>no</td>\n",
       "      <td>no</td>\n",
       "      <td>no</td>\n",
       "      <td>no</td>\n",
       "      <td>no</td>\n",
       "      <td>yes</td>\n",
       "    </tr>\n",
       "  </tbody>\n",
       "</table>\n",
       "</div>"
      ],
      "text/plain": [
       "  screen_name                               name                  location  \\\n",
       "0   InkWolf14                                Ink                   She/Her   \n",
       "1    ElleBeeG                           ElleBeeG  Scotland, United Kingdom   \n",
       "2   Jonman927                  Jon is |REDACTED|          Twinleaf, Sinnoh   \n",
       "3    JenJunoJ                               Juno               Alaska, USA   \n",
       "4      efan78  Ethan Kristopher-Hartley 🏳️‍🌈🇬🇧🇪🇺   Newcastle upon Tyne, UK   \n",
       "\n",
       "                                                 bio  \\\n",
       "0  15 | I draw a lot! | guys please\\r\\n\\r\\nopen t...   \n",
       "1                    Adult Human Female - no debate.   \n",
       "2                                         |REDACTED|   \n",
       "3  I wear men's clothing. Here's hoping men don't...   \n",
       "4  42 yo Centre-Left, Liberal Progressive, Remain...   \n",
       "\n",
       "                                               tweet he/him she/her they/them  \\\n",
       "0  RT @jalle_nii: #TransDayOfVisibility \\r\\nHiya,...     no     yes        no   \n",
       "1  @SinclairJM1987 @owenjones84 is a transphobic ...     no      no        no   \n",
       "2  RT @ArtsySmoker: My name is Bailey! I am a 29 ...     no      no        no   \n",
       "3  @hatpinwoman &lt;-this transman likes dick, th...     no      no        no   \n",
       "4  @fiery_godmother @lisasmi13049966 @DanauraW @S...    yes      no        no   \n",
       "\n",
       "  it/its xe/xem ze/zir pronouns  \n",
       "0     no     no     no      yes  \n",
       "1     no     no     no       no  \n",
       "2     no     no     no       no  \n",
       "3    yes     no     no      yes  \n",
       "4     no     no     no      yes  "
      ]
     },
     "execution_count": 47,
     "metadata": {},
     "output_type": "execute_result"
    }
   ],
   "source": [
    "transman_fn_list = [\"4_18/transman_4_18.csv\", \"4_19/transman_4_19.csv\", \"4_20/transman_4_20.csv\", \"4_21/transman_4_21.csv\", \"4_22/transman_4_22.csv\", \"4_24/transman_4_24.csv\", \"11_2/transman_11_2.csv\", \"11_4/transman_11_4.csv\", \"11_9/transman_11_9.csv\", \"11_18/transman_11_18.csv\"]\n",
    "transman_df_list = [pd.read_csv(fn) for fn in transman_fn_list]\n",
    "transman_df = pd.concat(transman_df_list).reset_index(drop=True)\n",
    "transman_df = transman_df.drop(['ze/zem'], 1)\n",
    "\n",
    "transman_df['pronouns'] = ['no' if x >= 6 else 'yes' for x in np.sum(transman_df.values == 'no', 1)]\n",
    "transman_df.head()"
   ]
  },
  {
   "cell_type": "code",
   "execution_count": 106,
   "id": "808cfb0b",
   "metadata": {},
   "outputs": [
    {
     "name": "stdout",
     "output_type": "stream",
     "text": [
      "no     0.613475\n",
      "yes    0.386525\n",
      "Name: pronouns, dtype: float64\n"
     ]
    },
    {
     "data": {
      "text/plain": [
       "<AxesSubplot:>"
      ]
     },
     "execution_count": 106,
     "metadata": {},
     "output_type": "execute_result"
    },
    {
     "data": {
      "image/png": "[encoded data removed]",
      "text/plain": [
       "<Figure size 432x288 with 1 Axes>"
      ]
     },
     "metadata": {
      "needs_background": "light"
     },
     "output_type": "display_data"
    }
   ],
   "source": [
    "print(transman_df['pronouns'].value_counts()/transman_df['pronouns'].value_counts().sum())\n",
    "transman_df['pronouns'].value_counts().plot.bar()"
   ]
  },
  {
   "cell_type": "code",
   "execution_count": 49,
   "id": "1e08ecb6",
   "metadata": {},
   "outputs": [
    {
     "name": "stderr",
     "output_type": "stream",
     "text": [
      "C:\\Users\\lucie\\AppData\\Local\\Temp/ipykernel_92224/1132476363.py:4: FutureWarning: In a future version of pandas all arguments of DataFrame.drop except for the argument 'labels' will be keyword-only\n",
      "  transwoman_df = transwoman_df.drop(['ze/zem'], 1)\n"
     ]
    },
    {
     "data": {
      "text/html": [
       "<div>\n",
       "<style scoped>\n",
       "    .dataframe tbody tr th:only-of-type {\n",
       "        vertical-align: middle;\n",
       "    }\n",
       "\n",
       "    .dataframe tbody tr th {\n",
       "        vertical-align: top;\n",
       "    }\n",
       "\n",
       "    .dataframe thead th {\n",
       "        text-align: right;\n",
       "    }\n",
       "</style>\n",
       "<table border=\"1\" class=\"dataframe\">\n",
       "  <thead>\n",
       "    <tr style=\"text-align: right;\">\n",
       "      <th></th>\n",
       "      <th>screen_name</th>\n",
       "      <th>name</th>\n",
       "      <th>location</th>\n",
       "      <th>bio</th>\n",
       "      <th>tweet</th>\n",
       "      <th>he/him</th>\n",
       "      <th>she/her</th>\n",
       "      <th>they/them</th>\n",
       "      <th>it/its</th>\n",
       "      <th>xe/xem</th>\n",
       "      <th>ze/zir</th>\n",
       "      <th>pronouns</th>\n",
       "    </tr>\n",
       "  </thead>\n",
       "  <tbody>\n",
       "    <tr>\n",
       "      <th>0</th>\n",
       "      <td>CherriBakewel</td>\n",
       "      <td>CEO of The Bimbo Industrial Complex</td>\n",
       "      <td>She/Her</td>\n",
       "      <td>local gay</td>\n",
       "      <td>A couple of months on and I still can't accept...</td>\n",
       "      <td>no</td>\n",
       "      <td>yes</td>\n",
       "      <td>no</td>\n",
       "      <td>no</td>\n",
       "      <td>no</td>\n",
       "      <td>no</td>\n",
       "      <td>yes</td>\n",
       "    </tr>\n",
       "    <tr>\n",
       "      <th>1</th>\n",
       "      <td>yanlina77479579</td>\n",
       "      <td>Martin</td>\n",
       "      <td>NaN</td>\n",
       "      <td>NaN</td>\n",
       "      <td>RT @May10208093: Women are valued in all socie...</td>\n",
       "      <td>no</td>\n",
       "      <td>no</td>\n",
       "      <td>no</td>\n",
       "      <td>no</td>\n",
       "      <td>no</td>\n",
       "      <td>no</td>\n",
       "      <td>no</td>\n",
       "    </tr>\n",
       "    <tr>\n",
       "      <th>2</th>\n",
       "      <td>1610_SpiderBoi</td>\n",
       "      <td>Miles Morales™ ( Semi-Hiatus )</td>\n",
       "      <td>Brooklyn, NY ( Earth - 1610 )</td>\n",
       "      <td>\" I may be a short hero , but I do have a big ...</td>\n",
       "      <td>RT @p00leparty: //Alright, since I recently hi...</td>\n",
       "      <td>no</td>\n",
       "      <td>no</td>\n",
       "      <td>no</td>\n",
       "      <td>no</td>\n",
       "      <td>no</td>\n",
       "      <td>no</td>\n",
       "      <td>no</td>\n",
       "    </tr>\n",
       "    <tr>\n",
       "      <th>3</th>\n",
       "      <td>uhdeemah</td>\n",
       "      <td>nek unek</td>\n",
       "      <td>atl • 22</td>\n",
       "      <td>open to criticism •blk liberation• tryna be be...</td>\n",
       "      <td>RT @cocoszengarden: SAVE A TRANSWOMAN OF COLOR...</td>\n",
       "      <td>no</td>\n",
       "      <td>no</td>\n",
       "      <td>no</td>\n",
       "      <td>no</td>\n",
       "      <td>no</td>\n",
       "      <td>no</td>\n",
       "      <td>no</td>\n",
       "    </tr>\n",
       "    <tr>\n",
       "      <th>4</th>\n",
       "      <td>loco_2017</td>\n",
       "      <td>cachorro loco 2017</td>\n",
       "      <td>NaN</td>\n",
       "      <td>DE BEM COM A VIDA.</td>\n",
       "      <td>RT @Love4Trans: #TransIsBeautiful 🦋\\r\\n\\r\\nBea...</td>\n",
       "      <td>no</td>\n",
       "      <td>no</td>\n",
       "      <td>no</td>\n",
       "      <td>no</td>\n",
       "      <td>no</td>\n",
       "      <td>no</td>\n",
       "      <td>no</td>\n",
       "    </tr>\n",
       "  </tbody>\n",
       "</table>\n",
       "</div>"
      ],
      "text/plain": [
       "       screen_name                                 name  \\\n",
       "0    CherriBakewel  CEO of The Bimbo Industrial Complex   \n",
       "1  yanlina77479579                               Martin   \n",
       "2   1610_SpiderBoi       Miles Morales™ ( Semi-Hiatus )   \n",
       "3         uhdeemah                             nek unek   \n",
       "4        loco_2017                   cachorro loco 2017   \n",
       "\n",
       "                        location  \\\n",
       "0                        She/Her   \n",
       "1                            NaN   \n",
       "2  Brooklyn, NY ( Earth - 1610 )   \n",
       "3                       atl • 22   \n",
       "4                            NaN   \n",
       "\n",
       "                                                 bio  \\\n",
       "0                                          local gay   \n",
       "1                                                NaN   \n",
       "2  \" I may be a short hero , but I do have a big ...   \n",
       "3  open to criticism •blk liberation• tryna be be...   \n",
       "4                                 DE BEM COM A VIDA.   \n",
       "\n",
       "                                               tweet he/him she/her they/them  \\\n",
       "0  A couple of months on and I still can't accept...     no     yes        no   \n",
       "1  RT @May10208093: Women are valued in all socie...     no      no        no   \n",
       "2  RT @p00leparty: //Alright, since I recently hi...     no      no        no   \n",
       "3  RT @cocoszengarden: SAVE A TRANSWOMAN OF COLOR...     no      no        no   \n",
       "4  RT @Love4Trans: #TransIsBeautiful 🦋\\r\\n\\r\\nBea...     no      no        no   \n",
       "\n",
       "  it/its xe/xem ze/zir pronouns  \n",
       "0     no     no     no      yes  \n",
       "1     no     no     no       no  \n",
       "2     no     no     no       no  \n",
       "3     no     no     no       no  \n",
       "4     no     no     no       no  "
      ]
     },
     "execution_count": 49,
     "metadata": {},
     "output_type": "execute_result"
    }
   ],
   "source": [
    "transwoman_fn_list = [\"4_18/transwoman_4_18.csv\", \"4_19/transwoman_4_19.csv\", \"4_20/transwoman_4_20.csv\", \"4_21/transwoman_4_21.csv\", \"4_22/transwoman_4_22.csv\", \"4_24/transwoman_4_24.csv\", \"11_2/transwoman_11_2.csv\", \"11_4/transwoman_11_4.csv\", \"11_9/transwoman_11_9.csv\", \"11_18/transwoman_11_18.csv\"]\n",
    "transwoman_df_list = [pd.read_csv(fn) for fn in transwoman_fn_list]\n",
    "transwoman_df = pd.concat(transwoman_df_list).reset_index(drop=True)\n",
    "transwoman_df = transwoman_df.drop(['ze/zem'], 1)\n",
    "\n",
    "transwoman_df['pronouns'] = ['no' if x >= 6 else 'yes' for x in np.sum(transwoman_df.values == 'no', 1)]\n",
    "transwoman_df.head()"
   ]
  },
  {
   "cell_type": "code",
   "execution_count": 105,
   "id": "7f4ffb8a",
   "metadata": {},
   "outputs": [
    {
     "name": "stdout",
     "output_type": "stream",
     "text": [
      "no     0.761844\n",
      "yes    0.238156\n",
      "Name: pronouns, dtype: float64\n"
     ]
    },
    {
     "data": {
      "text/plain": [
       "<AxesSubplot:>"
      ]
     },
     "execution_count": 105,
     "metadata": {},
     "output_type": "execute_result"
    },
    {
     "data": {
      "image/png": "[encoded data removed]",
      "text/plain": [
       "<Figure size 432x288 with 1 Axes>"
      ]
     },
     "metadata": {
      "needs_background": "light"
     },
     "output_type": "display_data"
    }
   ],
   "source": [
    "print(transwoman_df['pronouns'].value_counts()/transwoman_df['pronouns'].value_counts().sum())\n",
    "transwoman_df['pronouns'].value_counts().plot.bar()"
   ]
  },
  {
   "cell_type": "markdown",
   "id": "2b2fd3fd",
   "metadata": {},
   "source": [
    "So, we see significantly less tweets in \"trans man\" than \"trans woman\" and \"transgender\", BUT the amount of people using pronouns is not that different than those terms. It would likely be helpful to look at the porpotional differences between them. However, removing people who don't have pronouns would lessen our dataset by more than half, but I still believe my findings would be statistically significant. Let's take a look at the other terms. \n",
    "\n",
    "*** one edit for later is to make these on the same chart ***"
   ]
  },
  {
   "cell_type": "code",
   "execution_count": 104,
   "id": "c5eb73b1",
   "metadata": {},
   "outputs": [
    {
     "name": "stdout",
     "output_type": "stream",
     "text": [
      "no     0.633779\n",
      "yes    0.366221\n",
      "Name: pronouns, dtype: float64\n"
     ]
    },
    {
     "data": {
      "text/plain": [
       "<AxesSubplot:>"
      ]
     },
     "execution_count": 104,
     "metadata": {},
     "output_type": "execute_result"
    },
    {
     "data": {
      "image/png": "[encoded data removed]",
      "text/plain": [
       "<Figure size 432x288 with 1 Axes>"
      ]
     },
     "metadata": {
      "needs_background": "light"
     },
     "output_type": "display_data"
    }
   ],
   "source": [
    "bimbo_fn_list = [\"4_18/bimbo_4_18.csv\", \"4_19/bimbo_4_19.csv\", \"4_20/bimbo_4_20.csv\", \"4_21/bimbo_4_21.csv\", \"4_22/bimbo_4_22.csv\", \"4_24/bimbo_4_24.csv\", \"11_2/bimbo_11_2.csv\", \"11_4/bimbo_11_4.csv\", \"11_9/bimbo_11_9.csv\", \"11_18/bimbo_11_18.csv\"]\n",
    "bimbo_df_list = [pd.read_csv(fn) for fn in bimbo_fn_list]\n",
    "bimbo_df = pd.concat(bimbo_df_list).reset_index(drop=True)\n",
    "\n",
    "bimbo_df['pronouns'] = ['no' if x >= 6 else 'yes' for x in np.sum(bimbo_df.values == 'no', 1)]\n",
    "print(bimbo_df['pronouns'].value_counts()/bimbo_df['pronouns'].value_counts().sum())\n",
    "bimbo_df['pronouns'].value_counts().plot.bar()"
   ]
  },
  {
   "cell_type": "code",
   "execution_count": 103,
   "id": "ef4dc28b",
   "metadata": {},
   "outputs": [
    {
     "name": "stdout",
     "output_type": "stream",
     "text": [
      "yes    0.624726\n",
      "no     0.375274\n",
      "Name: pronouns, dtype: float64\n"
     ]
    },
    {
     "data": {
      "text/plain": [
       "<AxesSubplot:>"
      ]
     },
     "execution_count": 103,
     "metadata": {},
     "output_type": "execute_result"
    },
    {
     "data": {
      "image/png": "[encoded data removed]",
      "text/plain": [
       "<Figure size 432x288 with 1 Axes>"
      ]
     },
     "metadata": {
      "needs_background": "light"
     },
     "output_type": "display_data"
    }
   ],
   "source": [
    "himbo_fn_list = [\"4_18/himbo_4_18.csv\", \"4_19/himbo_4_19.csv\", \"4_20/himbo_4_20.csv\", \"4_21/himbo_4_21.csv\", \"4_22/himbo_4_22.csv\", \"4_24/himbo_4_24.csv\", \"11_2/himbo_11_2.csv\", \"11_4/himbo_11_4.csv\", \"11_9/himbo_11_9.csv\", \"11_18/himbo_11_18.csv\"]\n",
    "himbo_df_list = [pd.read_csv(fn) for fn in himbo_fn_list]\n",
    "himbo_df = pd.concat(himbo_df_list).reset_index(drop=True)\n",
    "\n",
    "himbo_df['pronouns'] = ['no' if x >= 6 else 'yes' for x in np.sum(himbo_df.values == 'no', 1)]\n",
    "print(himbo_df['pronouns'].value_counts()/himbo_df['pronouns'].value_counts().sum())\n",
    "himbo_df['pronouns'].value_counts().plot.bar()"
   ]
  },
  {
   "cell_type": "markdown",
   "id": "e312a9ba",
   "metadata": {},
   "source": [
    "#### Whoa! More people have pronouns in their bio when they use the word himbo! Let's pause here and look at the distribution on their pronouns!"
   ]
  },
  {
   "cell_type": "code",
   "execution_count": 70,
   "id": "f92fd0a0",
   "metadata": {},
   "outputs": [],
   "source": [
    "himbo_pronouns_df = himbo_df[himbo_df['pronouns'] == 'yes'].reset_index(drop=True)"
   ]
  },
  {
   "cell_type": "code",
   "execution_count": 72,
   "id": "541afb4e",
   "metadata": {},
   "outputs": [
    {
     "data": {
      "text/html": [
       "<div>\n",
       "<style scoped>\n",
       "    .dataframe tbody tr th:only-of-type {\n",
       "        vertical-align: middle;\n",
       "    }\n",
       "\n",
       "    .dataframe tbody tr th {\n",
       "        vertical-align: top;\n",
       "    }\n",
       "\n",
       "    .dataframe thead th {\n",
       "        text-align: right;\n",
       "    }\n",
       "</style>\n",
       "<table border=\"1\" class=\"dataframe\">\n",
       "  <thead>\n",
       "    <tr style=\"text-align: right;\">\n",
       "      <th></th>\n",
       "      <th>screen_name</th>\n",
       "      <th>name</th>\n",
       "      <th>location</th>\n",
       "      <th>bio</th>\n",
       "      <th>tweet</th>\n",
       "      <th>he/him</th>\n",
       "      <th>she/her</th>\n",
       "      <th>they/them</th>\n",
       "      <th>it/its</th>\n",
       "      <th>xe/xem</th>\n",
       "      <th>ze/zir</th>\n",
       "      <th>pronouns</th>\n",
       "    </tr>\n",
       "  </thead>\n",
       "  <tbody>\n",
       "    <tr>\n",
       "      <th>0</th>\n",
       "      <td>twinkjoon</td>\n",
       "      <td>jj loves bexie forever!!!!</td>\n",
       "      <td>bun/they, 21, minors dni</td>\n",
       "      <td>jungkook please smoke a blunt w me im begging ...</td>\n",
       "      <td>RT @aglioeollieo: 🐨 Welcome to Himbo Hooters! ...</td>\n",
       "      <td>no</td>\n",
       "      <td>no</td>\n",
       "      <td>yes</td>\n",
       "      <td>no</td>\n",
       "      <td>no</td>\n",
       "      <td>no</td>\n",
       "      <td>yes</td>\n",
       "    </tr>\n",
       "    <tr>\n",
       "      <th>1</th>\n",
       "      <td>caprimoment</td>\n",
       "      <td>Capri | Caprijima Arc</td>\n",
       "      <td>“joslyn” - joslyn | minor</td>\n",
       "      <td>professional akira nishikiyama lover | she/they</td>\n",
       "      <td>Yakuza Kiwami 2 spoilers //\\r\\n\\r\\ngoth himbo ...</td>\n",
       "      <td>no</td>\n",
       "      <td>yes</td>\n",
       "      <td>yes</td>\n",
       "      <td>no</td>\n",
       "      <td>no</td>\n",
       "      <td>no</td>\n",
       "      <td>yes</td>\n",
       "    </tr>\n",
       "    <tr>\n",
       "      <th>2</th>\n",
       "      <td>Brycifer666</td>\n",
       "      <td>Brycifer</td>\n",
       "      <td>Earth 616</td>\n",
       "      <td>He/Him *BiPrideFlag*\\r\\n@brycifer666 on insta ...</td>\n",
       "      <td>@TimeAndSpace_42 He is the best Tiger Himbo</td>\n",
       "      <td>yes</td>\n",
       "      <td>no</td>\n",
       "      <td>no</td>\n",
       "      <td>no</td>\n",
       "      <td>no</td>\n",
       "      <td>no</td>\n",
       "      <td>yes</td>\n",
       "    </tr>\n",
       "    <tr>\n",
       "      <th>3</th>\n",
       "      <td>starplatinumnun</td>\n",
       "      <td>🕷nun🕷</td>\n",
       "      <td>she/her</td>\n",
       "      <td>disaster artist(?)\\r\\ni'm still a jojo stan i ...</td>\n",
       "      <td>@diavologirlboss no lesbian himbo solidarity? ...</td>\n",
       "      <td>no</td>\n",
       "      <td>yes</td>\n",
       "      <td>no</td>\n",
       "      <td>no</td>\n",
       "      <td>no</td>\n",
       "      <td>no</td>\n",
       "      <td>yes</td>\n",
       "    </tr>\n",
       "    <tr>\n",
       "      <th>4</th>\n",
       "      <td>ragunyans</td>\n",
       "      <td>nat 🌻🌹 @ always sobbing 👑</td>\n",
       "      <td>Tennessee, USA</td>\n",
       "      <td>She/Her | 26 | ISTJ | Black | #BLM !!\\r\\n\\r\\nM...</td>\n",
       "      <td>RT @EarlCrayTea: IDEAL BIMBO HIMBO RELATIONSHI...</td>\n",
       "      <td>no</td>\n",
       "      <td>yes</td>\n",
       "      <td>no</td>\n",
       "      <td>no</td>\n",
       "      <td>no</td>\n",
       "      <td>no</td>\n",
       "      <td>yes</td>\n",
       "    </tr>\n",
       "  </tbody>\n",
       "</table>\n",
       "</div>"
      ],
      "text/plain": [
       "       screen_name                        name                   location  \\\n",
       "0        twinkjoon  jj loves bexie forever!!!!   bun/they, 21, minors dni   \n",
       "1      caprimoment       Capri | Caprijima Arc  “joslyn” - joslyn | minor   \n",
       "2      Brycifer666                    Brycifer                  Earth 616   \n",
       "3  starplatinumnun                       🕷nun🕷                    she/her   \n",
       "4        ragunyans   nat 🌻🌹 @ always sobbing 👑             Tennessee, USA   \n",
       "\n",
       "                                                 bio  \\\n",
       "0  jungkook please smoke a blunt w me im begging ...   \n",
       "1    professional akira nishikiyama lover | she/they   \n",
       "2  He/Him *BiPrideFlag*\\r\\n@brycifer666 on insta ...   \n",
       "3  disaster artist(?)\\r\\ni'm still a jojo stan i ...   \n",
       "4  She/Her | 26 | ISTJ | Black | #BLM !!\\r\\n\\r\\nM...   \n",
       "\n",
       "                                               tweet he/him she/her they/them  \\\n",
       "0  RT @aglioeollieo: 🐨 Welcome to Himbo Hooters! ...     no      no       yes   \n",
       "1  Yakuza Kiwami 2 spoilers //\\r\\n\\r\\ngoth himbo ...     no     yes       yes   \n",
       "2        @TimeAndSpace_42 He is the best Tiger Himbo    yes      no        no   \n",
       "3  @diavologirlboss no lesbian himbo solidarity? ...     no     yes        no   \n",
       "4  RT @EarlCrayTea: IDEAL BIMBO HIMBO RELATIONSHI...     no     yes        no   \n",
       "\n",
       "  it/its xe/xem ze/zir pronouns  \n",
       "0     no     no     no      yes  \n",
       "1     no     no     no      yes  \n",
       "2     no     no     no      yes  \n",
       "3     no     no     no      yes  \n",
       "4     no     no     no      yes  "
      ]
     },
     "execution_count": 72,
     "metadata": {},
     "output_type": "execute_result"
    }
   ],
   "source": [
    "himbo_pronouns_df.head()"
   ]
  },
  {
   "cell_type": "code",
   "execution_count": 77,
   "id": "10d27263",
   "metadata": {},
   "outputs": [
    {
     "data": {
      "text/plain": [
       "he/him  she/her  they/them  it/its  xe/xem  ze/zir\n",
       "yes     no       no         no      no      no        177\n",
       "no      yes      no         no      no      no        163\n",
       "        no       yes        no      no      no         71\n",
       "        yes      yes        no      no      no         55\n",
       "yes     no       yes        no      no      no         55\n",
       "no      no       no         yes     no      no         15\n",
       "yes     no       no         yes     no      no          8\n",
       "no      yes      no         yes     no      no          6\n",
       "yes     no       yes        yes     no      no          6\n",
       "        yes      no         no      no      no          4\n",
       "                 yes        no      no      no          3\n",
       "no      no       yes        yes     no      no          2\n",
       "                            no      yes     no          1\n",
       "        yes      yes        yes     no      no          1\n",
       "yes     yes      no         no      yes     no          1\n",
       "dtype: int64"
      ]
     },
     "execution_count": 77,
     "metadata": {},
     "output_type": "execute_result"
    }
   ],
   "source": [
    "himbo_pronouns_df[['he/him','she/her','they/them','it/its','xe/xem','ze/zir']].value_counts()"
   ]
  },
  {
   "cell_type": "markdown",
   "id": "c6d6bafa",
   "metadata": {},
   "source": [
    "Heyyyy! This is kind of proving my hypothesis, that people's pronouns do kind of align with the word that they use, since himbo has the 'him' suffix, the assumption is that we would expect more he/him users, and that's true! At least, so far. Additionally, I like this distribution of the value counts because it also visualizes people with more than one set of pronouns. I am open to more visualizations that may also show the distribution of pronouns (maybe a pie graph?) Let's do this same thing for thembo and bimbo."
   ]
  },
  {
   "cell_type": "code",
   "execution_count": 102,
   "id": "fab31062",
   "metadata": {},
   "outputs": [
    {
     "name": "stdout",
     "output_type": "stream",
     "text": [
      "yes    0.714885\n",
      "no     0.285115\n",
      "Name: pronouns, dtype: float64\n"
     ]
    },
    {
     "data": {
      "text/plain": [
       "<AxesSubplot:>"
      ]
     },
     "execution_count": 102,
     "metadata": {},
     "output_type": "execute_result"
    },
    {
     "data": {
      "image/png": "[encoded data removed]",
      "text/plain": [
       "<Figure size 432x288 with 1 Axes>"
      ]
     },
     "metadata": {
      "needs_background": "light"
     },
     "output_type": "display_data"
    }
   ],
   "source": [
    "thembo_fn_list = [\"4_18/thembo_4_18.csv\", \"4_19/thembo_4_19.csv\", \"4_20/thembo_4_20.csv\", \"4_21/thembo_4_21.csv\", \"4_22/thembo_4_22.csv\", \"4_24/thembo_4_24.csv\", \"11_2/thembo_11_2.csv\", \"11_4/thembo_11_4.csv\", \"11_9/thembo_11_9.csv\", \"11_18/thembo_11_18.csv\"]\n",
    "thembo_df_list = [pd.read_csv(fn) for fn in thembo_fn_list]\n",
    "thembo_df = pd.concat(thembo_df_list).reset_index(drop=True)\n",
    "\n",
    "thembo_df['pronouns'] = ['no' if x >= 6 else 'yes' for x in np.sum(thembo_df.values == 'no', 1)]\n",
    "print(thembo_df['pronouns'].value_counts()/thembo_df['pronouns'].value_counts().sum())\n",
    "thembo_df['pronouns'].value_counts().plot.bar()"
   ]
  },
  {
   "cell_type": "code",
   "execution_count": 80,
   "id": "9d481a48",
   "metadata": {},
   "outputs": [
    {
     "data": {
      "text/plain": [
       "he/him  she/her  they/them  it/its  xe/xem  ze/zir\n",
       "no      no       yes        no      no      no        254\n",
       "yes     no       yes        no      no      no        192\n",
       "no      yes      yes        no      no      no         56\n",
       "yes     no       no         no      no      no         53\n",
       "no      yes      no         no      no      no         50\n",
       "        no       yes        yes     no      no         40\n",
       "                 no         yes     no      no         11\n",
       "yes     yes      yes        no      no      no          8\n",
       "no      yes      no         yes     no      no          4\n",
       "yes     no       no         no      yes     no          4\n",
       "no      yes      yes        yes     no      no          3\n",
       "yes     no       no         yes     no      no          3\n",
       "        yes      no         no      no      no          2\n",
       "no      no       yes        no      yes     no          1\n",
       "yes     no       yes        no      yes     no          1\n",
       "dtype: int64"
      ]
     },
     "execution_count": 80,
     "metadata": {},
     "output_type": "execute_result"
    }
   ],
   "source": [
    "thembo_pronouns_df = thembo_df[thembo_df['pronouns'] == 'yes'].reset_index(drop=True)\n",
    "thembo_pronouns_df[['he/him','she/her','they/them','it/its','xe/xem','ze/zir']].value_counts()"
   ]
  },
  {
   "cell_type": "markdown",
   "id": "9b2fe2f9",
   "metadata": {},
   "source": [
    "Omg... and we see the same thing for they/them and thembo. Most of the people tweeting that word do also use they/them or a combination of another pronoun set with they."
   ]
  },
  {
   "cell_type": "code",
   "execution_count": 81,
   "id": "3b6e529c",
   "metadata": {},
   "outputs": [
    {
     "data": {
      "text/plain": [
       "he/him  she/her  they/them  it/its  xe/xem  ze/zir\n",
       "no      yes      no         no      no      no        77\n",
       "        no       yes        no      no      no        30\n",
       "        yes      yes        no      no      no        29\n",
       "yes     no       yes        no      no      no        24\n",
       "                 no         no      no      no        22\n",
       "no      no       no         yes     no      no        18\n",
       "                 yes        yes     no      no         4\n",
       "        yes      no         yes     no      no         4\n",
       "                 yes        yes     no      no         4\n",
       "yes     yes      yes        no      no      no         3\n",
       "        no       no         yes     no      no         1\n",
       "        yes      no         no      no      no         1\n",
       "                 yes        no      yes     no         1\n",
       "dtype: int64"
      ]
     },
     "execution_count": 81,
     "metadata": {},
     "output_type": "execute_result"
    }
   ],
   "source": [
    "bimbo_pronouns_df = bimbo_df[bimbo_df['pronouns'] == 'yes'].reset_index(drop=True)\n",
    "bimbo_pronouns_df[['he/him','she/her','they/them','it/its','xe/xem','ze/zir']].value_counts()"
   ]
  },
  {
   "cell_type": "markdown",
   "id": "2696fa6c",
   "metadata": {},
   "source": [
    "Whoa... So far, there is an alignment between the pronouns and the suffix/societal implications that a word has. Now, the deeper question is whether this is being used to talk about themselves or a group that they are a part of, or whether this is being used to talk about other people. But for now, this is pretty significant. Now, let's go ahead and see if we find the same kind of thing for the other queried words. "
   ]
  },
  {
   "cell_type": "code",
   "execution_count": 101,
   "id": "6b5e56bd",
   "metadata": {},
   "outputs": [
    {
     "name": "stdout",
     "output_type": "stream",
     "text": [
      "yes    0.663727\n",
      "no     0.336273\n",
      "Name: pronouns, dtype: float64\n"
     ]
    },
    {
     "data": {
      "text/plain": [
       "<AxesSubplot:>"
      ]
     },
     "execution_count": 101,
     "metadata": {},
     "output_type": "execute_result"
    },
    {
     "data": {
      "image/png": "[encoded data removed]",
      "text/plain": [
       "<Figure size 432x288 with 1 Axes>"
      ]
     },
     "metadata": {
      "needs_background": "light"
     },
     "output_type": "display_data"
    }
   ],
   "source": [
    "gentlethem_fn_list = [\"4_18/gentlethem_4_18.csv\", \"4_19/gentlethem_4_19.csv\", \"4_20/gentlethem_4_20.csv\", \"4_21/gentlethem_4_21.csv\", \"4_22/gentlethem_4_22.csv\", \"4_24/gentlethem_4_24.csv\", \"11_2/gentlethem_11_2.csv\", \"11_4/gentlethem_11_4.csv\", \"11_9/gentlethem_11_9.csv\", \"11_18/gentlethem_11_18.csv\"]\n",
    "gentlethem_df_list = [pd.read_csv(fn) for fn in gentlethem_fn_list]\n",
    "gentlethem_df = pd.concat(gentlethem_df_list).reset_index(drop=True)\n",
    "\n",
    "gentlethem_df['pronouns'] = ['no' if x >= 6 else 'yes' for x in np.sum(gentlethem_df.values == 'no', 1)]\n",
    "print(gentlethem_df['pronouns'].value_counts()/gentlethem_df['pronouns'].value_counts().sum())\n",
    "gentlethem_df['pronouns'].value_counts().plot.bar()"
   ]
  },
  {
   "cell_type": "code",
   "execution_count": 100,
   "id": "f094426f",
   "metadata": {},
   "outputs": [
    {
     "name": "stdout",
     "output_type": "stream",
     "text": [
      "no     0.847\n",
      "yes    0.153\n",
      "Name: pronouns, dtype: float64\n"
     ]
    },
    {
     "data": {
      "text/plain": [
       "<AxesSubplot:>"
      ]
     },
     "execution_count": 100,
     "metadata": {},
     "output_type": "execute_result"
    },
    {
     "data": {
      "image/png": "[encoded data removed]",
      "text/plain": [
       "<Figure size 432x288 with 1 Axes>"
      ]
     },
     "metadata": {
      "needs_background": "light"
     },
     "output_type": "display_data"
    }
   ],
   "source": [
    "gentlemen_fn_list = [\"4_18/gentlemen_4_18.csv\", \"4_19/gentlemen_4_19.csv\", \"4_20/gentlemen_4_20.csv\", \"4_21/gentlemen_4_21.csv\", \"4_22/gentlemen_4_22.csv\", \"4_24/gentlemen_4_24.csv\", \"11_2/gentlemen_11_2.csv\", \"11_4/gentlemen_11_4.csv\", \"11_9/gentlemen_11_9.csv\", \"11_18/gentlemen_11_18.csv\"]\n",
    "gentlemen_df_list = [pd.read_csv(fn) for fn in gentlemen_fn_list]\n",
    "gentlemen_df = pd.concat(gentlemen_df_list).reset_index(drop=True)\n",
    "\n",
    "gentlemen_df['pronouns'] = ['no' if x >= 6 else 'yes' for x in np.sum(gentlemen_df.values == 'no', 1)]\n",
    "print(gentlemen_df['pronouns'].value_counts()/gentlemen_df['pronouns'].value_counts().sum())\n",
    "gentlemen_df['pronouns'].value_counts().plot.bar()"
   ]
  },
  {
   "cell_type": "code",
   "execution_count": 98,
   "id": "7008b4ee",
   "metadata": {},
   "outputs": [
    {
     "name": "stdout",
     "output_type": "stream",
     "text": [
      "yes    0.590414\n",
      "no     0.409586\n",
      "Name: pronouns, dtype: float64\n"
     ]
    },
    {
     "data": {
      "text/plain": [
       "<AxesSubplot:>"
      ]
     },
     "execution_count": 98,
     "metadata": {},
     "output_type": "execute_result"
    },
    {
     "data": {
      "image/png": "[encoded data removed]",
      "text/plain": [
       "<Figure size 432x288 with 1 Axes>"
      ]
     },
     "metadata": {
      "needs_background": "light"
     },
     "output_type": "display_data"
    }
   ],
   "source": [
    "theydies_fn_list = [\"4_18/theydies_4_18.csv\", \"4_19/theydies_4_19.csv\", \"4_20/theydies_4_20.csv\", \"4_21/theydies_4_21.csv\", \"4_22/theydies_4_22.csv\", \"4_24/theydies_4_24.csv\", \"11_2/theydies_11_2.csv\", \"11_4/theydies_11_4.csv\", \"11_9/theydies_11_9.csv\", \"11_18/theydies_11_18.csv\"]\n",
    "theydies_df_list = [pd.read_csv(fn) for fn in theydies_fn_list]\n",
    "theydies_df = pd.concat(theydies_df_list).reset_index(drop=True)\n",
    "\n",
    "theydies_df['pronouns'] = ['no' if x >= 6 else 'yes' for x in np.sum(theydies_df.values == 'no', 1)]\n",
    "print(theydies_df['pronouns'].value_counts()/theydies_df['pronouns'].value_counts().sum())\n",
    "theydies_df['pronouns'].value_counts().plot.bar()"
   ]
  },
  {
   "cell_type": "code",
   "execution_count": 97,
   "id": "5c502b3f",
   "metadata": {},
   "outputs": [
    {
     "name": "stdout",
     "output_type": "stream",
     "text": [
      "no     0.845805\n",
      "yes    0.154195\n",
      "Name: pronouns, dtype: float64\n"
     ]
    },
    {
     "data": {
      "text/plain": [
       "<AxesSubplot:>"
      ]
     },
     "execution_count": 97,
     "metadata": {},
     "output_type": "execute_result"
    },
    {
     "data": {
      "image/png": "[encoded data removed]",
      "text/plain": [
       "<Figure size 432x288 with 1 Axes>"
      ]
     },
     "metadata": {
      "needs_background": "light"
     },
     "output_type": "display_data"
    }
   ],
   "source": [
    "ladies_fn_list = [\"4_19/ladies_4_19.csv\", \"4_20/ladies_4_20.csv\", \"4_21/ladies_4_21.csv\", \"4_22/ladies_4_22.csv\", \"4_24/ladies_4_24.csv\", \"11_2/ladies_11_2.csv\", \"11_4/ladies_11_4.csv\", \"11_9/ladies_11_9.csv\", \"11_18/ladies_11_18.csv\"]\n",
    "ladies_df_list = [pd.read_csv(fn) for fn in ladies_fn_list]\n",
    "ladies_df = pd.concat(ladies_df_list).reset_index(drop=True)\n",
    "\n",
    "ladies_df['pronouns'] = ['no' if x >= 6 else 'yes' for x in np.sum(ladies_df.values == 'no', 1)]\n",
    "ladies_counts = ladies_df['pronouns'].value_counts()\n",
    "print(ladies_counts/ladies_counts.sum())\n",
    "ladies_df['pronouns'].value_counts().plot.bar()"
   ]
  },
  {
   "cell_type": "markdown",
   "id": "69442811",
   "metadata": {},
   "source": [
    "Overall, what we can tell from this is that words with specific gender morphemes tend to appeal more to people who reside within communities where it is the norm to indicate your pronouns to be more inclusive. This is cool!"
   ]
  },
  {
   "cell_type": "code",
   "execution_count": null,
   "id": "df790c3a",
   "metadata": {},
   "outputs": [],
   "source": []
  },
  {
   "cell_type": "markdown",
   "id": "2b14f123",
   "metadata": {},
   "source": [
    "The next steps for this project is to look at some statistical tests, likely chi-squared and t-tests to compare the proportions of different pronoun users to determine the significance. After that, it'll be time to do some hardcore NLP! My theory right now is to use n-grams to determine who users are referring to when they use \"thembo\", \"bimbo\", etc and then some sentiment analysis to see if there is a general disatisfaction with the words or if it is typically happy and they enjoy using those words."
   ]
  }
 ],
 "metadata": {
  "kernelspec": {
   "display_name": "Python 3 (ipykernel)",
   "language": "python",
   "name": "python3"
  },
  "language_info": {
   "codemirror_mode": {
    "name": "ipython",
    "version": 3
   },
   "file_extension": ".py",
   "mimetype": "text/x-python",
   "name": "python",
   "nbconvert_exporter": "python",
   "pygments_lexer": "ipython3",
   "version": "3.9.7"
  }
 },
 "nbformat": 4,
 "nbformat_minor": 5
}
